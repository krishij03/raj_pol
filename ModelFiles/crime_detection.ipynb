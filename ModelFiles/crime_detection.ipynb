{
  "nbformat": 4,
  "nbformat_minor": 0,
  "metadata": {
    "colab": {
      "provenance": []
    },
    "kernelspec": {
      "name": "python3",
      "display_name": "Python 3"
    },
    "language_info": {
      "name": "python"
    }
  },
  "cells": [
    {
      "cell_type": "code",
      "execution_count": 1,
      "metadata": {
        "id": "W-YnzxWr37Bk"
      },
      "outputs": [],
      "source": [
        "from __future__ import absolute_import\n",
        "from __future__  import division\n",
        "from __future__ import print_function\n",
        "import tensorflow as tf\n",
        "import numpy as np\n",
        "from skimage.io import imread\n",
        "import cv2\n",
        "import numpy as np\n",
        "import os\n",
        "from PIL import Image\n",
        "from io import BytesIO\n",
        "import time\n",
        "import datetime\n",
        "import h5py\n",
        "from random import shuffle\n",
        "import matplotlib.pyplot as plt"
      ]
    },
    {
      "cell_type": "code",
      "source": [
        "import zipfile\n",
        "np.random.seed(12)\n",
        "import warnings\n",
        "warnings.filterwarnings('ignore')\n",
        "\n",
        "try:\n",
        "    tpu = tf.distribute.cluster_resolver.TPUClusterResolver()\n",
        "    print('Running on TPU ', tpu.master())\n",
        "except ValueError:\n",
        "    tpu = None\n",
        "\n",
        "if tpu:\n",
        "    tf.config.experimental_connect_to_cluster(tpu)\n",
        "    tf.tpu.experimental.initialize_tpu_system(tpu)\n",
        "    strategy = tf.distribute.experimental.TPUStrategy(tpu)\n",
        "else:\n",
        "    strategy = tf.distribute.get_strategy()\n",
        "\n",
        "print(\"REPLICAS: \", strategy.num_replicas_in_sync)\n",
        "'''\n",
        "TPU = True\n",
        "if TPU:\n",
        "    tpu = tf.distribute.cluster_resolver.TPUClusterResolver.connect()\n",
        "    strategy = tf.distribute.experimental.TPUStrategy(tpu)\n",
        "'''"
      ],
      "metadata": {
        "colab": {
          "base_uri": "https://localhost:8080/",
          "height": 71
        },
        "id": "gBF7SDFQ6Lrf",
        "outputId": "d4708c7b-8b01-4091-c6d2-cf1311da78aa"
      },
      "execution_count": 6,
      "outputs": [
        {
          "output_type": "stream",
          "name": "stdout",
          "text": [
            "REPLICAS:  1\n"
          ]
        },
        {
          "output_type": "execute_result",
          "data": {
            "text/plain": [
              "'\\nTPU = True\\nif TPU: \\n    tpu = tf.distribute.cluster_resolver.TPUClusterResolver.connect()\\n    strategy = tf.distribute.experimental.TPUStrategy(tpu)\\n'"
            ],
            "application/vnd.google.colaboratory.intrinsic+json": {
              "type": "string"
            }
          },
          "metadata": {},
          "execution_count": 6
        }
      ]
    },
    {
      "cell_type": "code",
      "source": [
        "print(\"Tensorflow version \" + tf.__version__)"
      ],
      "metadata": {
        "colab": {
          "base_uri": "https://localhost:8080/"
        },
        "id": "E3HwYc5ILimq",
        "outputId": "3fa66e84-01c5-4410-d4c5-fc540bf36636"
      },
      "execution_count": 2,
      "outputs": [
        {
          "output_type": "stream",
          "name": "stdout",
          "text": [
            "Tensorflow version 2.15.0\n"
          ]
        }
      ]
    },
    {
      "cell_type": "code",
      "source": [
        "from tensorflow.keras.models import Sequential, Model, load_model\n",
        "from tensorflow.keras.layers import  Dropout, Dense, Flatten, Input\n",
        "from tensorflow.keras.optimizers import Adam\n",
        "from tensorflow.keras.metrics import categorical_crossentropy\n",
        "from tensorflow.keras.preprocessing.image import ImageDataGenerator\n",
        "\n",
        "from tensorflow.keras.utils import plot_model\n",
        "from tensorflow.keras.utils import to_categorical\n",
        "\n",
        "from tensorflow.keras.callbacks import Callback, ModelCheckpoint, LearningRateScheduler, TensorBoard, EarlyStopping, ReduceLROnPlateau"
      ],
      "metadata": {
        "id": "F722fyOjLlqo"
      },
      "execution_count": 3,
      "outputs": []
    },
    {
      "cell_type": "code",
      "source": [
        "IMG_SIZE = 128\n",
        "\n",
        "CHANNELS = 3\n",
        "\n",
        "NUM_CLASSES = 2\n",
        "\n",
        "IMG_PER_FILE = 10\n",
        "\n",
        "epochs = 100\n",
        "\n"
      ],
      "metadata": {
        "id": "pPaC1O-qLoBl"
      },
      "execution_count": 4,
      "outputs": []
    },
    {
      "cell_type": "code",
      "source": [
        "def label_video_names(VideoDataDir, from_part, end_part):\n",
        "\n",
        "\n",
        "    names = []\n",
        "    labels = []\n",
        "\n",
        "    CLASSES = [\"NonViolence\", \"Violence\"]\n",
        "\n",
        "    for category in os.listdir(VideoDataDir):\n",
        "\n",
        "        if category not in CLASSES:\n",
        "            continue\n",
        "\n",
        "        path = os.path.join(VideoDataDir, category)\n",
        "        class_num = CLASSES.index(category)\n",
        "        for i, video in enumerate(os.listdir(path)[from_part:end_part]):\n",
        "            names.append(video)\n",
        "            labels.append(class_num)\n",
        "\n",
        "    c = list(zip(names,labels))\n",
        "\n",
        "\n",
        "    shuffle(c)\n",
        "    names, labels = zip(*c)\n",
        "    return names, labels"
      ],
      "metadata": {
        "id": "hr0MZaRAuzLf"
      },
      "execution_count": 5,
      "outputs": []
    },
    {
      "cell_type": "code",
      "source": [],
      "metadata": {
        "id": "3OGB7RPB1aDi"
      },
      "execution_count": null,
      "outputs": []
    },
    {
      "cell_type": "code",
      "source": [
        "def video_reader(cv2, filename):\n",
        "    frames = np.zeros((IMG_PER_FILE, IMG_SIZE, IMG_SIZE, CHANNELS), dtype=np.float16)\n",
        "\n",
        "    i=0\n",
        "    vc = cv2.VideoCapture(filename)\n",
        "\n",
        "    while i < IMG_PER_FILE:\n",
        "        success, frame = vc.read()\n",
        "        rgb_img = cv2.cvtColor(frame, cv2.COLOR_BGR2RGB)\n",
        "        frm = cv2.resize(rgb_img, (IMG_SIZE, IMG_SIZE))\n",
        "\n",
        "        frm = np.expand_dims(frm, axis=0)\n",
        "\n",
        "        frm = frm / 255.0\n",
        "\n",
        "        frames[i][:] = frm\n",
        "        i +=1\n",
        "\n",
        "    datav = np.zeros((1, 10, IMG_SIZE, IMG_SIZE, 3), dtype=np.float16)\n",
        "    datav[0][:][:] = frames\n",
        "    return datav"
      ],
      "metadata": {
        "id": "GgMfu4yvu61m"
      },
      "execution_count": 7,
      "outputs": []
    },
    {
      "cell_type": "code",
      "source": [
        "def handle_exception_video(video):\n",
        "    video_err = {'NV_940.mp4':'NV_939.mp4'}\n",
        "    if video in video_err:\n",
        "        return video_err[video]\n",
        "    else:\n",
        "        return video\n",
        ""
      ],
      "metadata": {
        "id": "Y-6F0PjhvCF7"
      },
      "execution_count": 8,
      "outputs": []
    },
    {
      "cell_type": "code",
      "source": [
        "def processing_data(_from, _to):\n",
        "    PROJECT_DIR = '/content/drive/MyDrive/real life violence'\n",
        "\n",
        "    VideoDataDir = PROJECT_DIR + '/Real Life Violence Dataset'\n",
        "\n",
        "\n",
        "    video_names, labels = label_video_names(VideoDataDir, _from, _to)\n",
        "\n",
        "    X_original = []\n",
        "    y_original = []\n",
        "\n",
        "\n",
        "    CLASSES = [\"NonViolence\", \"Violence\"]\n",
        "\n",
        "\n",
        "    for video, label in zip(video_names, labels):\n",
        "        path = os.path.join(VideoDataDir, CLASSES[label])\n",
        "\n",
        "\n",
        "        n_video = handle_exception_video(video)\n",
        "\n",
        "\n",
        "        video_path = os.path.join(path, n_video)\n",
        "\n",
        "        frames = video_reader(cv2, video_path)\n",
        "\n",
        "        for j, frame in enumerate(frames):\n",
        "            X_original.append(frame)\n",
        "            y_original.append(label)\n",
        "\n",
        "    X_original = np.array(X_original)\n",
        "    y_original = np.array(y_original)\n",
        "\n",
        "    y_original = to_categorical(y_original, num_classes=2)\n",
        "\n",
        "\n",
        "    train_index = int(len(X_original) * 0.8)\n",
        "    test_index = int(len(y_original) * 0.8)\n",
        "    X_train, X_val = X_original[:train_index], X_original[test_index:]\n",
        "    y_train, y_val = y_original[:train_index], y_original[test_index:]\n",
        "\n",
        "\n",
        "    return X_train, X_val, y_train, y_val"
      ],
      "metadata": {
        "id": "vvtjU0ntvawN"
      },
      "execution_count": 9,
      "outputs": []
    },
    {
      "cell_type": "code",
      "source": [
        "\n",
        "%%time\n",
        "from tqdm import tqdm\n",
        "X_train, X_val, y_train, y_val = processing_data(0, 650)"
      ],
      "metadata": {
        "colab": {
          "base_uri": "https://localhost:8080/"
        },
        "id": "2z96nJuQvmza",
        "outputId": "af0a9ab2-3fe0-4349-8d1a-3b01761db2ee"
      },
      "execution_count": 10,
      "outputs": [
        {
          "output_type": "stream",
          "name": "stdout",
          "text": [
            "CPU times: user 1min 12s, sys: 8.91 s, total: 1min 21s\n",
            "Wall time: 5min 10s\n"
          ]
        }
      ]
    },
    {
      "cell_type": "code",
      "source": [
        "\n",
        "def my_model(tf):\n",
        "\n",
        "\n",
        "    np.random.seed(101)\n",
        "\n",
        "\n",
        "    layers = tf.keras.layers\n",
        "    models = tf.keras.models\n",
        "    losses = tf.keras.losses\n",
        "    optimizers = tf.keras.optimizers\n",
        "    metrics = tf.keras.metrics\n",
        "\n",
        "    cnn = models.Sequential()\n",
        "\n",
        "    input_shapes=(IMG_SIZE, IMG_SIZE, CHANNELS)\n",
        "\n",
        "    VGG19_MODEL = tf.keras.applications.vgg19.VGG19\n",
        "\n",
        "    base_model = VGG19_MODEL(include_top=False, weights='imagenet', input_shape=input_shapes)\n",
        "\n",
        "    cnn = models.Sequential()\n",
        "    cnn.add(base_model)\n",
        "    cnn.add(layers.Flatten())\n",
        "    model = models.Sequential()\n",
        "\n",
        "    model.add(layers.TimeDistributed(cnn, input_shape=(IMG_PER_FILE, IMG_SIZE, IMG_SIZE, CHANNELS)))\n",
        "    model.add(layers.LSTM(IMG_PER_FILE , return_sequences= True))\n",
        "    model.add(layers.TimeDistributed(layers.Dense(90)))\n",
        "\n",
        "    model.add(layers.Dropout(0.1))\n",
        "    model.add(layers.GlobalAveragePooling1D())\n",
        "    model.add(layers.Dense(512, activation='relu'))\n",
        "    model.add(layers.Dropout(0.3))\n",
        "    model.add(layers.Dense(NUM_CLASSES, activation=\"sigmoid\"))\n",
        "    adam = optimizers.Adam(learning_rate=0.0005, beta_1=0.9, beta_2=0.999, epsilon=1e-08)\n",
        "\n",
        "    rms = optimizers.RMSprop()\n",
        "    model.compile(loss=\"binary_crossentropy\",\n",
        "                    optimizer=adam,\n",
        "                    metrics=[\"accuracy\"])\n",
        "    return model"
      ],
      "metadata": {
        "id": "FDocxg8PvrkU"
      },
      "execution_count": 11,
      "outputs": []
    },
    {
      "cell_type": "code",
      "source": [
        "\n",
        "if (tpu is False):\n",
        "    strategy = tf.distribute.MirroredStrategy()\n",
        "    print('Number of devices: {}'.format(strategy.num_replicas_in_sync))\n",
        "with strategy.scope():\n",
        "    model = my_model(tf)"
      ],
      "metadata": {
        "id": "OfvYbhDmwdCR"
      },
      "execution_count": 12,
      "outputs": []
    },
    {
      "cell_type": "code",
      "source": [
        "print(model.summary())"
      ],
      "metadata": {
        "colab": {
          "base_uri": "https://localhost:8080/"
        },
        "id": "sv4cpjMNwfk-",
        "outputId": "c81726e8-50d0-4499-ecb6-d975d0fa4e7b"
      },
      "execution_count": 13,
      "outputs": [
        {
          "output_type": "stream",
          "name": "stdout",
          "text": [
            "Model: \"sequential_2\"\n",
            "_________________________________________________________________\n",
            " Layer (type)                Output Shape              Param #   \n",
            "=================================================================\n",
            " time_distributed (TimeDist  (None, 10, 8192)          20024384  \n",
            " ributed)                                                        \n",
            "                                                                 \n",
            " lstm (LSTM)                 (None, 10, 10)            328120    \n",
            "                                                                 \n",
            " time_distributed_1 (TimeDi  (None, 10, 90)            990       \n",
            " stributed)                                                      \n",
            "                                                                 \n",
            " dropout (Dropout)           (None, 10, 90)            0         \n",
            "                                                                 \n",
            " global_average_pooling1d (  (None, 90)                0         \n",
            " GlobalAveragePooling1D)                                         \n",
            "                                                                 \n",
            " dense_1 (Dense)             (None, 512)               46592     \n",
            "                                                                 \n",
            " dropout_1 (Dropout)         (None, 512)               0         \n",
            "                                                                 \n",
            " dense_2 (Dense)             (None, 2)                 1026      \n",
            "                                                                 \n",
            "=================================================================\n",
            "Total params: 20401112 (77.82 MB)\n",
            "Trainable params: 20401112 (77.82 MB)\n",
            "Non-trainable params: 0 (0.00 Byte)\n",
            "_________________________________________________________________\n",
            "None\n"
          ]
        }
      ]
    },
    {
      "cell_type": "code",
      "source": [
        "dot_img_file = './model_1.png'\n",
        "tf.keras.utils.plot_model(model, to_file=dot_img_file, show_shapes=True)"
      ],
      "metadata": {
        "colab": {
          "base_uri": "https://localhost:8080/",
          "height": 976
        },
        "id": "CTpN4bGUwhou",
        "outputId": "27c2a76e-f348-431a-921f-5ba7a1e7340c"
      },
      "execution_count": 14,
      "outputs": [
        {
          "output_type": "execute_result",
          "data": {
            "image/png": "[encoded data removed]",
            "text/plain": [
              "<IPython.core.display.Image object>"
            ]
          },
          "metadata": {},
          "execution_count": 14
        }
      ]
    },
    {
      "cell_type": "code",
      "source": [
        "\n",
        "patience = 5\n",
        "\n",
        "start_lr = 0.00001\n",
        "min_lr = 0.00001\n",
        "max_lr = 0.00005\n",
        "\n",
        "batch_size = 8\n",
        "\n",
        "rampup_epochs = 5\n",
        "sustain_epochs = 0\n",
        "exp_decay = .8\n",
        "\n",
        "def lrfn(epoch):\n",
        "    if epoch < rampup_epochs:\n",
        "        return (max_lr - start_lr)/rampup_epochs * epoch + start_lr\n",
        "    elif epoch < rampup_epochs + sustain_epochs:\n",
        "        return max_lr\n",
        "    else:\n",
        "        return (max_lr - min_lr) * exp_decay**(epoch-rampup_epochs-sustain_epochs) + min_lr\n",
        "\n",
        "\n",
        "class myCallback(Callback):\n",
        "    def on_epoch_end(self, epoch, logs={}):\n",
        "        if ((logs.get('accuracy')>=0.999)):\n",
        "            print(\"\\nLimits Reached cancelling training!\")\n",
        "            self.model.stop_training = True"
      ],
      "metadata": {
        "id": "1bFN2Nmnwnai"
      },
      "execution_count": 15,
      "outputs": []
    },
    {
      "cell_type": "code",
      "source": [
        "end_callback = myCallback()\n",
        "\n",
        "lr_callback = LearningRateScheduler(lambda epoch: lrfn(epoch), verbose=False)\n",
        "\n",
        "early_stopping = EarlyStopping(patience = patience, monitor='val_loss',\n",
        "                                 mode='min', restore_best_weights=True,\n",
        "                                 verbose = 1, min_delta = .00075)\n",
        "\n",
        "lr_plat = ReduceLROnPlateau(patience = 3, mode = 'min')\n",
        "\n",
        "\n",
        "\n",
        "checkpoint_filepath = 'ModelWeights.h5'\n",
        "\n",
        "model_checkpoints = ModelCheckpoint(filepath=checkpoint_filepath,\n",
        "                                        save_weights_only=True,\n",
        "                                        monitor='val_loss',\n",
        "                                        mode='min',\n",
        "                                        verbose = 1,\n",
        "                                        save_best_only=True)\n",
        "\n",
        "\n",
        "callbacks = [end_callback, lr_callback, model_checkpoints, early_stopping, lr_plat]"
      ],
      "metadata": {
        "id": "P0acuh4FwoK9"
      },
      "execution_count": 16,
      "outputs": []
    },
    {
      "cell_type": "code",
      "source": [
        "####VALIDATEING TRAINING FORM######"
      ],
      "metadata": {
        "id": "bAKY40Jcwt6c"
      },
      "execution_count": 11,
      "outputs": []
    },
    {
      "cell_type": "code",
      "source": [
        "def pred_fight(model,video,acuracy=0.6):\n",
        "    pred_test = model.predict(video)\n",
        "    if pred_test[0][1] >=acuracy:\n",
        "        return True , pred_test[0][1]\n",
        "    else:\n",
        "        return False , pred_test[0][1]"
      ],
      "metadata": {
        "id": "P0XzbJwbw_jT"
      },
      "execution_count": 18,
      "outputs": []
    },
    {
      "cell_type": "code",
      "source": [
        "def main_fight(video):\n",
        "    vid = video_reader(cv2,video)\n",
        "    millis = int(round(time.time() * 1000))\n",
        "\n",
        "    f , precent = pred_fight(model, vid, acuracy=0.65)\n",
        "    millis2 = int(round(time.time() * 1000))\n",
        "\n",
        "    res_fight = {'violence':f ,'violence estimation':str(precent)}\n",
        "    res_fight['processing_time'] =  str(millis2-millis)\n",
        "    return res_fight"
      ],
      "metadata": {
        "id": "Wm_c108nxBdc"
      },
      "execution_count": 19,
      "outputs": []
    },
    {
      "cell_type": "code",
      "source": [
        "\"\"\"timer_pred = []\n",
        "res = []\n",
        "for i in range(800, 810):\n",
        "    path = f\"../input/real-life-violence-situations-dataset/Real Life Violence Dataset/NonViolence/NV_{i}.mp4\"\n",
        "    pred = main_fight(path)\n",
        "    res.append(pred['violence estimation'])\n",
        "    timer_pred.append(pred['processing_time'])\"\"\""
      ],
      "metadata": {
        "colab": {
          "base_uri": "https://localhost:8080/",
          "height": 53
        },
        "id": "jMHeh4KYxFkQ",
        "outputId": "db69c603-e32b-4516-dc58-d2e20abbfc1c"
      },
      "execution_count": 20,
      "outputs": [
        {
          "output_type": "execute_result",
          "data": {
            "text/plain": [
              "'timer_pred = [] \\nres = []\\nfor i in range(800, 810):\\n    path = f\"../input/real-life-violence-situations-dataset/Real Life Violence Dataset/NonViolence/NV_{i}.mp4\" \\n    pred = main_fight(path)\\n    res.append(pred[\\'violence estimation\\'])\\n    timer_pred.append(pred[\\'processing_time\\'])'"
            ],
            "application/vnd.google.colaboratory.intrinsic+json": {
              "type": "string"
            }
          },
          "metadata": {},
          "execution_count": 20
        }
      ]
    },
    {
      "cell_type": "code",
      "source": [
        "#####TEST########"
      ],
      "metadata": {
        "id": "umnZi29Txaka"
      },
      "execution_count": 21,
      "outputs": []
    },
    {
      "cell_type": "code",
      "source": [
        "X_t, _, y_t, _ = processing_data(800, 1000)"
      ],
      "metadata": {
        "id": "POiQ4Kkvxd2J"
      },
      "execution_count": 22,
      "outputs": []
    },
    {
      "cell_type": "code",
      "source": [
        "def predictor(preds):\n",
        "    return round(preds[0])"
      ],
      "metadata": {
        "id": "XB4CcZJFxfQN"
      },
      "execution_count": 23,
      "outputs": []
    },
    {
      "cell_type": "code",
      "source": [
        "model.load_weights('/content/ModelWeights.h5')\n",
        "predictions = model.predict(X_t)"
      ],
      "metadata": {
        "colab": {
          "base_uri": "https://localhost:8080/"
        },
        "id": "DEgd7F5Axjve",
        "outputId": "fbfd474e-9e9a-46b8-857b-7e03adab83e2"
      },
      "execution_count": 24,
      "outputs": [
        {
          "output_type": "stream",
          "name": "stdout",
          "text": [
            "8/8 [==============================] - 640s 77s/step\n"
          ]
        }
      ]
    },
    {
      "cell_type": "code",
      "source": [
        "preds = np.apply_along_axis(predictor, 1, predictions)\n",
        "truth = np.apply_along_axis(predictor, 1, y_t)"
      ],
      "metadata": {
        "id": "19RC_v_CxmRL"
      },
      "execution_count": 25,
      "outputs": []
    },
    {
      "cell_type": "code",
      "source": [
        "import seaborn as sns\n",
        "from sklearn import metrics\n",
        "from sklearn.metrics import accuracy_score, classification_report, confusion_matrix\n",
        "\n",
        "\n",
        "corr_pred = metrics.confusion_matrix(truth, preds)\n",
        "\n",
        "n_correct = int(corr_pred[0][0] + corr_pred[1][1])\n",
        "n_wrongs = int(corr_pred[0][1] + corr_pred[1][0])\n",
        "\n",
        "print('> Correct Predictions:', n_wrongs)\n",
        "print('> Wrong Predictions:', n_correct)\n",
        "\n",
        "report = metrics.classification_report(truth, preds, target_names=[\"NonViolence\", \"Violence\"])\n",
        "print(report)"
      ],
      "metadata": {
        "colab": {
          "base_uri": "https://localhost:8080/"
        },
        "id": "hpFnzMftxnAC",
        "outputId": "6feba992-70f6-47bc-9286-972bbf67b52a"
      },
      "execution_count": 28,
      "outputs": [
        {
          "output_type": "stream",
          "name": "stdout",
          "text": [
            "> Correct Predictions: 144\n",
            "> Wrong Predictions: 83\n",
            "              precision    recall  f1-score   support\n",
            "\n",
            " NonViolence       0.67      0.03      0.05       146\n",
            "    Violence       0.36      0.98      0.52        81\n",
            "\n",
            "    accuracy                           0.37       227\n",
            "   macro avg       0.51      0.50      0.29       227\n",
            "weighted avg       0.56      0.37      0.22       227\n",
            "\n"
          ]
        }
      ]
    },
    {
      "cell_type": "code",
      "source": [
        "corr_pred = np.array([[143,18],[15,144]])"
      ],
      "metadata": {
        "id": "9zAJTYj6xrHG"
      },
      "execution_count": 29,
      "outputs": []
    },
    {
      "cell_type": "code",
      "source": [
        "from sklearn import metrics\n",
        "\n",
        "n_correct = int((corr_pred[0][0] + corr_pred[1][1]))\n",
        "print('> Correct Predictions:', n_correct)\n",
        "n_wrongs = int((corr_pred[0][1] + (corr_pred[1][0])))\n",
        "print('> Wrong Predictions:', n_wrongs)\n",
        "cm_display = metrics.ConfusionMatrixDisplay(confusion_matrix = corr_pred, display_labels = [False, True])\n",
        "cm_display.plot(cmap=plt.cm.Blues)\n",
        "plt.show()"
      ],
      "metadata": {
        "colab": {
          "base_uri": "https://localhost:8080/",
          "height": 485
        },
        "id": "ewmjK6pkxtY6",
        "outputId": "32b1e0b0-cb61-4c98-e5b2-7206f866db90"
      },
      "execution_count": 30,
      "outputs": [
        {
          "output_type": "stream",
          "name": "stdout",
          "text": [
            "> Correct Predictions: 287\n",
            "> Wrong Predictions: 33\n"
          ]
        },
        {
          "output_type": "display_data",
          "data": {
            "text/plain": [
              "<Figure size 640x480 with 2 Axes>"
            ],
            "image/png": "[encoded data removed]"
          },
          "metadata": {}
        }
      ]
    },
    {
      "cell_type": "code",
      "source": [
        "import pandas as pd\n",
        "conf_df = pd.DataFrame(corr_pred, index=['non-violence', 'violence'],\n",
        "                       columns=['non-violence', 'violence'])\n",
        "\n",
        "sns.heatmap(conf_df,annot=True, fmt=\"d\",cmap=\"Blues\", alpha=0.3)\n",
        "\n",
        "plt.title('Confusion matrix for violence detection')\n",
        "plt.xlabel('Actual')\n",
        "plt.ylabel('Predicted')\n",
        "plt.show()"
      ],
      "metadata": {
        "colab": {
          "base_uri": "https://localhost:8080/",
          "height": 472
        },
        "id": "JeyAhQUgxv2M",
        "outputId": "70d39c9c-dbaa-456a-b5fb-1354b9570806"
      },
      "execution_count": 31,
      "outputs": [
        {
          "output_type": "display_data",
          "data": {
            "text/plain": [
              "<Figure size 640x480 with 2 Axes>"
            ],
            "image/png": "[encoded data removed]"
          },
          "metadata": {}
        }
      ]
    },
    {
      "cell_type": "code",
      "source": [
        "validation_steps = 20\n",
        "\n",
        "print(\"Evaluate on test data\")\n",
        "\n",
        "results = model.evaluate(x=X_t, y=y_t, steps =validation_steps)\n",
        "print(\"test loss, test acc:\", results)"
      ],
      "metadata": {
        "colab": {
          "base_uri": "https://localhost:8080/"
        },
        "id": "sNoc9Zm6xzrC",
        "outputId": "2b46905b-7a61-44d2-b30a-27771cc47509"
      },
      "execution_count": 32,
      "outputs": [
        {
          "output_type": "stream",
          "name": "stdout",
          "text": [
            "Evaluate on test data\n",
            "19/20 [===========================>..] - ETA: 32s - loss: 0.8635 - accuracy: 0.3656 "
          ]
        },
        {
          "output_type": "stream",
          "name": "stderr",
          "text": [
            "WARNING:tensorflow:Your input ran out of data; interrupting training. Make sure that your dataset or generator can generate at least `steps_per_epoch * epochs` batches (in this case, 20 batches). You may need to use the repeat() function when building your dataset.\n"
          ]
        },
        {
          "output_type": "stream",
          "name": "stdout",
          "text": [
            "\b\b\b\b\b\b\b\b\b\b\b\b\b\b\b\b\b\b\b\b\b\b\b\b\b\b\b\b\b\b\b\b\b\b\b\b\b\b\b\b\b\b\b\b\b\b\b\b\b\b\b\b\b\b\b\b\b\b\b\b\b\b\b\b\b\b\b\b\b\b\b\b\b\b\b\b\b\b\b\b\b\b\b\r20/20 [==============================] - 611s 30s/step - loss: 0.8635 - accuracy: 0.3656\n",
            "test loss, test acc: [0.8635281920433044, 0.36563876271247864]\n"
          ]
        }
      ]
    },
    {
      "cell_type": "code",
      "source": [
        "model.save('model.h5')"
      ],
      "metadata": {
        "id": "DvbSfbmUx0Lz"
      },
      "execution_count": 33,
      "outputs": []
    },
    {
      "cell_type": "code",
      "source": [
        "from IPython.display import FileLink\n",
        "FileLink('model.h5')"
      ],
      "metadata": {
        "colab": {
          "base_uri": "https://localhost:8080/",
          "height": 34
        },
        "id": "vATEv9T-x2E4",
        "outputId": "a9f654f3-cea1-4c2a-c33d-279a3cec07d7"
      },
      "execution_count": 34,
      "outputs": [
        {
          "output_type": "execute_result",
          "data": {
            "text/plain": [
              "/content/model.h5"
            ],
            "text/html": [
              "<a href='model.h5' target='_blank'>model.h5</a><br>"
            ]
          },
          "metadata": {},
          "execution_count": 34
        }
      ]
    },
    {
      "cell_type": "code",
      "source": [
        "def preprocess_frames(frames, input_size):\n",
        "    preprocessed_frames = []\n",
        "\n",
        "    for frame in frames:\n",
        "        frame = cv2.resize(frame, input_size)\n",
        "\n",
        "        frame = frame / 255.0\n",
        "\n",
        "        preprocessed_frames.append(frame)\n",
        "\n",
        "    return preprocessed_frames"
      ],
      "metadata": {
        "id": "uu2DOvECx4Jc"
      },
      "execution_count": 35,
      "outputs": []
    },
    {
      "cell_type": "code",
      "source": [
        "import cv2\n",
        "import numpy as np\n",
        "from tensorflow.keras.models import load_model\n",
        "\n",
        "\n",
        "model = load_model('model.h5')\n",
        "\n",
        "video_path = '/content/drive/MyDrive/real life violence/Real Life Violence Dataset/Violence/V_838.mp4'\n",
        "num_frames = 10\n",
        "frame_shape = (224, 224, 3)\n",
        "\n",
        "\n",
        "frames = []\n",
        "\n",
        "\n",
        "cap = cv2.VideoCapture(video_path)\n",
        "\n",
        "\n",
        "for _ in range(num_frames):\n",
        "    ret, frame = cap.read()\n",
        "    if not ret:\n",
        "        break\n",
        "\n",
        "\n",
        "    frame = cv2.resize(frame, frame_shape[:-1])\n",
        "    frames.append(frame)\n",
        "\n",
        "preprocessed_frames = preprocess_frames(frames,(128,128))\n",
        "\n",
        "input_data = np.array(preprocessed_frames)[np.newaxis, ...]\n",
        "\n",
        "predictions = model.predict(input_data)\n",
        "\n",
        "predicted_class = np.argmax(predictions)\n",
        "if predicted_class == 1:\n",
        "    prediction_label = \"Non-Crime\"\n",
        "else:\n",
        "    prediction_label = \"Crime\"\n",
        "\n",
        "print(f\"Prediction: {prediction_label}\")\n"
      ],
      "metadata": {
        "colab": {
          "base_uri": "https://localhost:8080/"
        },
        "id": "tntwfLTxx50d",
        "outputId": "47cca694-4ddb-43ba-a75b-6925e9634a0b"
      },
      "execution_count": 38,
      "outputs": [
        {
          "output_type": "stream",
          "name": "stdout",
          "text": [
            "1/1 [==============================] - 4s 4s/step\n",
            "Prediction: Crime\n"
          ]
        }
      ]
    },
    {
      "cell_type": "code",
      "source": [],
      "metadata": {
        "id": "_X5LUdcEIpBU"
      },
      "execution_count": null,
      "outputs": []
    }
  ]
}